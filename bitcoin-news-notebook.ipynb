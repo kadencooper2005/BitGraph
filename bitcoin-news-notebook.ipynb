{
 "cells": [
  {
   "cell_type": "code",
   "execution_count": 10,
   "id": "5f854d9d-600b-405c-a0c1-1f64c7898e86",
   "metadata": {},
   "outputs": [
    {
     "name": "stdout",
     "output_type": "stream",
     "text": [
      "['PUBLISHED_ON', 'TITLE', 'URL']\n"
     ]
    }
   ],
   "source": [
    "import pandas as pd\n",
    "df = pd.read_csv(\"bitcoin_news.csv\")\n",
    "\n",
    "print(df.columns.tolist())"
   ]
  },
  {
   "cell_type": "code",
   "execution_count": 11,
   "id": "0eb0ca05-fcb7-45b9-b234-dab45d4ee02d",
   "metadata": {},
   "outputs": [
    {
     "name": "stdout",
     "output_type": "stream",
     "text": [
      "<class 'pandas.core.frame.DataFrame'>\n",
      "RangeIndex: 6404 entries, 0 to 6403\n",
      "Data columns (total 3 columns):\n",
      " #   Column        Non-Null Count  Dtype \n",
      "---  ------        --------------  ----- \n",
      " 0   PUBLISHED_ON  6404 non-null   object\n",
      " 1   TITLE         6404 non-null   object\n",
      " 2   URL           6404 non-null   object\n",
      "dtypes: object(3)\n",
      "memory usage: 150.2+ KB\n"
     ]
    }
   ],
   "source": [
    "df.info()"
   ]
  },
  {
   "cell_type": "code",
   "execution_count": 12,
   "id": "d0133407-98de-4182-bacb-e5e149bdeafb",
   "metadata": {},
   "outputs": [
    {
     "data": {
      "text/html": [
       "<div>\n",
       "<style scoped>\n",
       "    .dataframe tbody tr th:only-of-type {\n",
       "        vertical-align: middle;\n",
       "    }\n",
       "\n",
       "    .dataframe tbody tr th {\n",
       "        vertical-align: top;\n",
       "    }\n",
       "\n",
       "    .dataframe thead th {\n",
       "        text-align: right;\n",
       "    }\n",
       "</style>\n",
       "<table border=\"1\" class=\"dataframe\">\n",
       "  <thead>\n",
       "    <tr style=\"text-align: right;\">\n",
       "      <th></th>\n",
       "      <th>PUBLISHED_ON</th>\n",
       "      <th>TITLE</th>\n",
       "      <th>URL</th>\n",
       "    </tr>\n",
       "  </thead>\n",
       "  <tbody>\n",
       "    <tr>\n",
       "      <th>count</th>\n",
       "      <td>6404</td>\n",
       "      <td>6404</td>\n",
       "      <td>6404</td>\n",
       "    </tr>\n",
       "    <tr>\n",
       "      <th>unique</th>\n",
       "      <td>5813</td>\n",
       "      <td>5817</td>\n",
       "      <td>5817</td>\n",
       "    </tr>\n",
       "    <tr>\n",
       "      <th>top</th>\n",
       "      <td>2025-04-15 23:46:20</td>\n",
       "      <td>Semler Scientific Settles DOJ Probe, Says Read...</td>\n",
       "      <td>https://www.coindesk.com/policy/2025/04/15/sem...</td>\n",
       "    </tr>\n",
       "    <tr>\n",
       "      <th>freq</th>\n",
       "      <td>5</td>\n",
       "      <td>5</td>\n",
       "      <td>5</td>\n",
       "    </tr>\n",
       "  </tbody>\n",
       "</table>\n",
       "</div>"
      ],
      "text/plain": [
       "               PUBLISHED_ON  \\\n",
       "count                  6404   \n",
       "unique                 5813   \n",
       "top     2025-04-15 23:46:20   \n",
       "freq                      5   \n",
       "\n",
       "                                                    TITLE  \\\n",
       "count                                                6404   \n",
       "unique                                               5817   \n",
       "top     Semler Scientific Settles DOJ Probe, Says Read...   \n",
       "freq                                                    5   \n",
       "\n",
       "                                                      URL  \n",
       "count                                                6404  \n",
       "unique                                               5817  \n",
       "top     https://www.coindesk.com/policy/2025/04/15/sem...  \n",
       "freq                                                    5  "
      ]
     },
     "execution_count": 12,
     "metadata": {},
     "output_type": "execute_result"
    }
   ],
   "source": [
    "df.describe(include='all')"
   ]
  },
  {
   "cell_type": "code",
   "execution_count": 13,
   "id": "1cabe5f7-eeff-4cdd-8d93-f373a466dd84",
   "metadata": {},
   "outputs": [
    {
     "name": "stdout",
     "output_type": "stream",
     "text": [
      "PUBLISHED_ON    0\n",
      "TITLE           0\n",
      "URL             0\n",
      "dtype: int64\n",
      "<class 'pandas.core.frame.DataFrame'>\n",
      "RangeIndex: 6404 entries, 0 to 6403\n",
      "Data columns (total 3 columns):\n",
      " #   Column        Non-Null Count  Dtype \n",
      "---  ------        --------------  ----- \n",
      " 0   PUBLISHED_ON  6404 non-null   object\n",
      " 1   TITLE         6404 non-null   object\n",
      " 2   URL           6404 non-null   object\n",
      "dtypes: object(3)\n",
      "memory usage: 150.2+ KB\n",
      "None\n"
     ]
    }
   ],
   "source": [
    "print(df.isnull().sum())\n",
    "print(df.info())\n"
   ]
  },
  {
   "cell_type": "code",
   "execution_count": 49,
   "id": "d7fb86bb-6251-41cb-ae97-de6cb4a969e7",
   "metadata": {},
   "outputs": [],
   "source": [
    "df.duplicated().sum()\n",
    "df = df.drop_duplicates()"
   ]
  },
  {
   "cell_type": "code",
   "execution_count": 50,
   "id": "a3250ec6-4149-415b-9465-89d43176ea71",
   "metadata": {},
   "outputs": [
    {
     "data": {
      "text/plain": [
       "0"
      ]
     },
     "execution_count": 50,
     "metadata": {},
     "output_type": "execute_result"
    }
   ],
   "source": [
    "df.duplicated().sum()"
   ]
  },
  {
   "cell_type": "code",
   "execution_count": 53,
   "id": "70c830f2-8329-434d-93ea-787656465351",
   "metadata": {},
   "outputs": [],
   "source": [
    "# Drop rows that have the same title + published date\n",
    "df = df.drop_duplicates(subset=[\"TITLE\", \"PUBLISHED_ON\"])\n",
    "# Drop based on URL alone\n",
    "df = df.drop_duplicates(subset=[\"URL\"])\n",
    "\n"
   ]
  },
  {
   "cell_type": "code",
   "execution_count": 54,
   "id": "ec7c1ac3-bec3-468b-85c3-1b1ef6200092",
   "metadata": {},
   "outputs": [],
   "source": [
    "df[\"PUBLISHED_ON\"] = pd.to_datetime(df[\"PUBLISHED_ON\"], errors='coerce')\n"
   ]
  },
  {
   "cell_type": "code",
   "execution_count": 55,
   "id": "2bad32e4-994c-42d7-ad7a-df1d85341f30",
   "metadata": {},
   "outputs": [],
   "source": [
    "df[\"TITLE\"] = df[\"TITLE\"].str.strip()\n",
    "df[\"URL\"] = df[\"URL\"].str.strip()\n"
   ]
  },
  {
   "cell_type": "code",
   "execution_count": 56,
   "id": "a4fe149c-b5bc-46bc-b86c-96993b15427d",
   "metadata": {},
   "outputs": [
    {
     "name": "stdout",
     "output_type": "stream",
     "text": [
      "PUBLISHED_ON    0\n",
      "TITLE           0\n",
      "URL             0\n",
      "dtype: int64\n",
      "<class 'pandas.core.frame.DataFrame'>\n",
      "Index: 5817 entries, 0 to 6403\n",
      "Data columns (total 3 columns):\n",
      " #   Column        Non-Null Count  Dtype         \n",
      "---  ------        --------------  -----         \n",
      " 0   PUBLISHED_ON  5817 non-null   datetime64[ns]\n",
      " 1   TITLE         5817 non-null   object        \n",
      " 2   URL           5817 non-null   object        \n",
      "dtypes: datetime64[ns](1), object(2)\n",
      "memory usage: 181.8+ KB\n",
      "None\n"
     ]
    }
   ],
   "source": [
    "print(df.isnull().sum())\n",
    "print(df.info())\n"
   ]
  },
  {
   "cell_type": "code",
   "execution_count": 64,
   "id": "db4d0a9e-d954-4126-9607-953fd2c3166f",
   "metadata": {},
   "outputs": [
    {
     "name": "stdout",
     "output_type": "stream",
     "text": [
      "PUBLISHED_ON    0\n",
      "TITLE           0\n",
      "URL             0\n",
      "dtype: int64\n",
      "0\n",
      "0\n"
     ]
    }
   ],
   "source": [
    "print(df.isnull().sum())\n",
    "print(df.duplicated().sum())\n",
    "print(df.duplicated(subset=[\"TITLE\", \"PUBLISHED_ON\"]).sum())"
   ]
  },
  {
   "cell_type": "code",
   "execution_count": 65,
   "id": "8c03c299-dbbe-4773-9d14-f68584543d46",
   "metadata": {},
   "outputs": [
    {
     "name": "stdout",
     "output_type": "stream",
     "text": [
      "PUBLISHED_ON    datetime64[ns]\n",
      "TITLE                   object\n",
      "URL                     object\n",
      "dtype: object\n"
     ]
    }
   ],
   "source": [
    "print(df.dtypes)"
   ]
  },
  {
   "cell_type": "code",
   "execution_count": 66,
   "id": "91a2fd5c-23d8-4a29-9f4c-7e8599f5abf3",
   "metadata": {},
   "outputs": [
    {
     "name": "stdout",
     "output_type": "stream",
     "text": [
      "0\n",
      "0\n"
     ]
    }
   ],
   "source": [
    "print((df[\"TITLE\"].str.strip() == \"\").sum())\n",
    "print((df[\"URL\"].str.strip() == \"\").sum())"
   ]
  },
  {
   "cell_type": "code",
   "execution_count": 67,
   "id": "9715caec-6ba3-4721-a097-77fb385e2c41",
   "metadata": {},
   "outputs": [
    {
     "name": "stdout",
     "output_type": "stream",
     "text": [
      "2013-04-01 20:19:24 2025-06-14 09:55:39\n"
     ]
    }
   ],
   "source": [
    "print(df[\"PUBLISHED_ON\"].min(), df[\"PUBLISHED_ON\"].max())"
   ]
  },
  {
   "cell_type": "code",
   "execution_count": 68,
   "id": "cc7a65cd-f779-4d67-a6c5-0d862c2a73bf",
   "metadata": {},
   "outputs": [
    {
     "name": "stdout",
     "output_type": "stream",
     "text": [
      "(0, 3)\n"
     ]
    }
   ],
   "source": [
    "bad_urls = df[~df[\"URL\"].str.startswith(\"http\")]\n",
    "print(bad_urls.shape)"
   ]
  },
  {
   "cell_type": "code",
   "execution_count": 69,
   "id": "53dbad60-135a-43fd-8b31-33e351eb7251",
   "metadata": {},
   "outputs": [
    {
     "name": "stdout",
     "output_type": "stream",
     "text": [
      "(5817, 3)\n",
      "         PUBLISHED_ON                                       TITLE  \\\n",
      "0 2013-04-01 20:19:24                      How do I buy bitcoins?   \n",
      "1 2013-04-01 21:15:06             What is the price of a bitcoin?   \n",
      "2 2013-04-13 07:07:09      A week is a long time in Bitcoin world   \n",
      "3 2013-04-15 13:14:17  'Zerocoin' widget promises Bitcoin privacy   \n",
      "4 2013-04-15 13:15:32   Can mining bitcoins harm the environment?   \n",
      "\n",
      "                                                 URL  \n",
      "0  https://coindesk.com/markets/2013/04/01/how-do...  \n",
      "1  https://coindesk.com/markets/2013/04/01/what-i...  \n",
      "2  https://coindesk.com/markets/2013/04/13/a-week...  \n",
      "3  https://coindesk.com/markets/2013/04/15/zeroco...  \n",
      "4  https://coindesk.com/tech/2013/04/15/can-minin...  \n"
     ]
    }
   ],
   "source": [
    "print(df.shape)\n",
    "print(df.head())\n"
   ]
  },
  {
   "cell_type": "code",
   "execution_count": 70,
   "id": "e1db23bf-2633-4b90-862d-06c39262ecf6",
   "metadata": {},
   "outputs": [
    {
     "name": "stdout",
     "output_type": "stream",
     "text": [
      "<class 'pandas.core.frame.DataFrame'>\n",
      "Index: 5817 entries, 0 to 6403\n",
      "Data columns (total 3 columns):\n",
      " #   Column        Non-Null Count  Dtype         \n",
      "---  ------        --------------  -----         \n",
      " 0   PUBLISHED_ON  5817 non-null   datetime64[ns]\n",
      " 1   TITLE         5817 non-null   object        \n",
      " 2   URL           5817 non-null   object        \n",
      "dtypes: datetime64[ns](1), object(2)\n",
      "memory usage: 181.8+ KB\n"
     ]
    }
   ],
   "source": [
    "df.info()\n"
   ]
  },
  {
   "cell_type": "code",
   "execution_count": 74,
   "id": "d7e093b1-16c2-43c6-b894-b94bfadd3209",
   "metadata": {},
   "outputs": [],
   "source": [
    "bad_urls = df[~df[\"URL\"].str.startswith(\"http\")]\n",
    "bad_urls[[\"TITLE\", \"URL\"]]\n",
    "df = df[df[\"URL\"].str.startswith(\"http\")]"
   ]
  },
  {
   "cell_type": "code",
   "execution_count": 75,
   "id": "f37e0548-6f55-4ee5-91ff-87feb01f1934",
   "metadata": {},
   "outputs": [
    {
     "name": "stdout",
     "output_type": "stream",
     "text": [
      "0\n",
      "0\n",
      "0\n"
     ]
    }
   ],
   "source": [
    "print(df[\"URL\"].isnull().sum())\n",
    "print((df[\"URL\"].str.strip() == \"\").sum())\n",
    "print((df[~df[\"URL\"].str.startswith(\"http\")]).shape[0])"
   ]
  },
  {
   "cell_type": "code",
   "execution_count": 81,
   "id": "6f9130ff-b2da-4dea-9912-187814da5258",
   "metadata": {},
   "outputs": [],
   "source": [
    "df.columns = [\"Publish Date\", \"headline\", \"link\"]"
   ]
  },
  {
   "cell_type": "code",
   "execution_count": 82,
   "id": "932ad5a5-25de-4b30-9dbb-2f67b278a8d2",
   "metadata": {},
   "outputs": [
    {
     "name": "stdout",
     "output_type": "stream",
     "text": [
      "Index(['Publish Date', 'headline', 'link'], dtype='object')\n"
     ]
    }
   ],
   "source": [
    "print(df.columns)\n"
   ]
  },
  {
   "cell_type": "code",
   "execution_count": 83,
   "id": "3d38b5eb-e767-425b-92cb-6a78e486823c",
   "metadata": {},
   "outputs": [
    {
     "name": "stdout",
     "output_type": "stream",
     "text": [
      "            Publish Date                                           headline  \\\n",
      "0    2013-04-01 20:19:24                             How do I buy bitcoins?   \n",
      "1    2013-04-01 21:15:06                    What is the price of a bitcoin?   \n",
      "2    2013-04-13 07:07:09             A week is a long time in Bitcoin world   \n",
      "3    2013-04-15 13:14:17         'Zerocoin' widget promises Bitcoin privacy   \n",
      "4    2013-04-15 13:15:32          Can mining bitcoins harm the environment?   \n",
      "...                  ...                                                ...   \n",
      "6399 2025-06-13 13:18:21  CoinDesk 20 Performance Update: Bitcoin Price ...   \n",
      "6400 2025-06-13 14:15:50  Bitcoin Miners Just Had One of Their Best Quar...   \n",
      "6401 2025-06-13 14:43:45  Brazilian Firm Meliuz's Shares Fall After Plan...   \n",
      "6402 2025-06-13 18:52:18  Bitcoin Bounces to $106K After Iran-Israel Jit...   \n",
      "6403 2025-06-14 09:55:39  Bitcoin Remains Defiant Amid Escalating Middle...   \n",
      "\n",
      "                                                   link  \n",
      "0     https://coindesk.com/markets/2013/04/01/how-do...  \n",
      "1     https://coindesk.com/markets/2013/04/01/what-i...  \n",
      "2     https://coindesk.com/markets/2013/04/13/a-week...  \n",
      "3     https://coindesk.com/markets/2013/04/15/zeroco...  \n",
      "4     https://coindesk.com/tech/2013/04/15/can-minin...  \n",
      "...                                                 ...  \n",
      "6399  https://www.coindesk.com/coindesk-indices/2025...  \n",
      "6400  https://www.coindesk.com/markets/2025/06/13/bi...  \n",
      "6401  https://www.coindesk.com/markets/2025/06/13/br...  \n",
      "6402  https://www.coindesk.com/markets/2025/06/13/bi...  \n",
      "6403  https://www.coindesk.com/markets/2025/06/14/bi...  \n",
      "\n",
      "[5817 rows x 3 columns]\n"
     ]
    }
   ],
   "source": [
    "print(df)"
   ]
  },
  {
   "cell_type": "code",
   "execution_count": 84,
   "id": "a43b4301-59fa-4ac2-8ca6-dbd624db1aa6",
   "metadata": {},
   "outputs": [
    {
     "name": "stdout",
     "output_type": "stream",
     "text": [
      "            Publish Date                                           headline                                               link\n",
      "0    2013-04-01 20:19:24                             How do I buy bitcoins?  https://coindesk.com/markets/2013/04/01/how-do...\n",
      "1    2013-04-01 21:15:06                    What is the price of a bitcoin?  https://coindesk.com/markets/2013/04/01/what-i...\n",
      "2    2013-04-13 07:07:09             A week is a long time in Bitcoin world  https://coindesk.com/markets/2013/04/13/a-week...\n",
      "3    2013-04-15 13:14:17         'Zerocoin' widget promises Bitcoin privacy  https://coindesk.com/markets/2013/04/15/zeroco...\n",
      "4    2013-04-15 13:15:32          Can mining bitcoins harm the environment?  https://coindesk.com/tech/2013/04/15/can-minin...\n",
      "...                  ...                                                ...                                                ...\n",
      "6399 2025-06-13 13:18:21  CoinDesk 20 Performance Update: Bitcoin Price ...  https://www.coindesk.com/coindesk-indices/2025...\n",
      "6400 2025-06-13 14:15:50  Bitcoin Miners Just Had One of Their Best Quar...  https://www.coindesk.com/markets/2025/06/13/bi...\n",
      "6401 2025-06-13 14:43:45  Brazilian Firm Meliuz's Shares Fall After Plan...  https://www.coindesk.com/markets/2025/06/13/br...\n",
      "6402 2025-06-13 18:52:18  Bitcoin Bounces to $106K After Iran-Israel Jit...  https://www.coindesk.com/markets/2025/06/13/bi...\n",
      "6403 2025-06-14 09:55:39  Bitcoin Remains Defiant Amid Escalating Middle...  https://www.coindesk.com/markets/2025/06/14/bi...\n",
      "\n",
      "[5817 rows x 3 columns]\n"
     ]
    }
   ],
   "source": [
    "pd.set_option('display.width', 1000)            # Set the display width wide enough\n",
    "pd.set_option('display.max_columns', None)      # Show all columns\n",
    "pd.set_option('display.expand_frame_repr', False)  # Don't wrap wide tables\n",
    "print(df)\n"
   ]
  },
  {
   "cell_type": "code",
   "execution_count": null,
   "id": "9df0df93-5177-45a7-8751-0287acf43bd2",
   "metadata": {},
   "outputs": [],
   "source": []
  }
 ],
 "metadata": {
  "kernelspec": {
   "display_name": "Python 3 (ipykernel)",
   "language": "python",
   "name": "python3"
  },
  "language_info": {
   "codemirror_mode": {
    "name": "ipython",
    "version": 3
   },
   "file_extension": ".py",
   "mimetype": "text/x-python",
   "name": "python",
   "nbconvert_exporter": "python",
   "pygments_lexer": "ipython3",
   "version": "3.12.7"
  }
 },
 "nbformat": 4,
 "nbformat_minor": 5
}
