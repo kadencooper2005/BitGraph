{
 "cells": [
  {
   "cell_type": "code",
   "execution_count": 2,
   "id": "493233b1-b290-4b7a-b38e-1064f65553eb",
   "metadata": {},
   "outputs": [
    {
     "data": {
      "text/html": [
       "<div>\n",
       "<style scoped>\n",
       "    .dataframe tbody tr th:only-of-type {\n",
       "        vertical-align: middle;\n",
       "    }\n",
       "\n",
       "    .dataframe tbody tr th {\n",
       "        vertical-align: top;\n",
       "    }\n",
       "\n",
       "    .dataframe thead th {\n",
       "        text-align: right;\n",
       "    }\n",
       "</style>\n",
       "<table border=\"1\" class=\"dataframe\">\n",
       "  <thead>\n",
       "    <tr style=\"text-align: right;\">\n",
       "      <th></th>\n",
       "      <th>time</th>\n",
       "      <th>open</th>\n",
       "      <th>high</th>\n",
       "      <th>low</th>\n",
       "      <th>close</th>\n",
       "      <th>volumefrom</th>\n",
       "      <th>volumeto</th>\n",
       "    </tr>\n",
       "  </thead>\n",
       "  <tbody>\n",
       "    <tr>\n",
       "      <th>0</th>\n",
       "      <td>2014-07-01</td>\n",
       "      <td>635.14</td>\n",
       "      <td>652.54</td>\n",
       "      <td>634.09</td>\n",
       "      <td>643.19</td>\n",
       "      <td>4106.32</td>\n",
       "      <td>2675353.96</td>\n",
       "    </tr>\n",
       "    <tr>\n",
       "      <th>1</th>\n",
       "      <td>2014-07-02</td>\n",
       "      <td>643.19</td>\n",
       "      <td>652.10</td>\n",
       "      <td>604.58</td>\n",
       "      <td>645.72</td>\n",
       "      <td>4784.21</td>\n",
       "      <td>3099761.96</td>\n",
       "    </tr>\n",
       "    <tr>\n",
       "      <th>2</th>\n",
       "      <td>2014-07-03</td>\n",
       "      <td>645.72</td>\n",
       "      <td>646.40</td>\n",
       "      <td>633.58</td>\n",
       "      <td>638.03</td>\n",
       "      <td>4010.26</td>\n",
       "      <td>2580980.48</td>\n",
       "    </tr>\n",
       "    <tr>\n",
       "      <th>3</th>\n",
       "      <td>2014-07-04</td>\n",
       "      <td>638.03</td>\n",
       "      <td>642.22</td>\n",
       "      <td>623.04</td>\n",
       "      <td>623.96</td>\n",
       "      <td>3601.75</td>\n",
       "      <td>2291612.17</td>\n",
       "    </tr>\n",
       "    <tr>\n",
       "      <th>4</th>\n",
       "      <td>2014-07-05</td>\n",
       "      <td>623.96</td>\n",
       "      <td>627.80</td>\n",
       "      <td>619.69</td>\n",
       "      <td>622.96</td>\n",
       "      <td>3247.38</td>\n",
       "      <td>2034965.63</td>\n",
       "    </tr>\n",
       "  </tbody>\n",
       "</table>\n",
       "</div>"
      ],
      "text/plain": [
       "         time    open    high     low   close  volumefrom    volumeto\n",
       "0  2014-07-01  635.14  652.54  634.09  643.19     4106.32  2675353.96\n",
       "1  2014-07-02  643.19  652.10  604.58  645.72     4784.21  3099761.96\n",
       "2  2014-07-03  645.72  646.40  633.58  638.03     4010.26  2580980.48\n",
       "3  2014-07-04  638.03  642.22  623.04  623.96     3601.75  2291612.17\n",
       "4  2014-07-05  623.96  627.80  619.69  622.96     3247.38  2034965.63"
      ]
     },
     "execution_count": 2,
     "metadata": {},
     "output_type": "execute_result"
    }
   ],
   "source": [
    "import pandas as pd\n",
    "\n",
    "df = pd.read_csv(\"btc_oyv.csv\")\n",
    "\n",
    "df.head()"
   ]
  },
  {
   "cell_type": "code",
   "execution_count": 3,
   "id": "58ddf032-d0e1-4a08-9bfe-8e3350d8628d",
   "metadata": {},
   "outputs": [
    {
     "data": {
      "text/html": [
       "<div>\n",
       "<style scoped>\n",
       "    .dataframe tbody tr th:only-of-type {\n",
       "        vertical-align: middle;\n",
       "    }\n",
       "\n",
       "    .dataframe tbody tr th {\n",
       "        vertical-align: top;\n",
       "    }\n",
       "\n",
       "    .dataframe thead th {\n",
       "        text-align: right;\n",
       "    }\n",
       "</style>\n",
       "<table border=\"1\" class=\"dataframe\">\n",
       "  <thead>\n",
       "    <tr style=\"text-align: right;\">\n",
       "      <th></th>\n",
       "      <th>time</th>\n",
       "      <th>open</th>\n",
       "      <th>high</th>\n",
       "      <th>low</th>\n",
       "      <th>close</th>\n",
       "      <th>volumefrom</th>\n",
       "      <th>volumeto</th>\n",
       "    </tr>\n",
       "  </thead>\n",
       "  <tbody>\n",
       "    <tr>\n",
       "      <th>3997</th>\n",
       "      <td>2025-06-09</td>\n",
       "      <td>105779.28</td>\n",
       "      <td>110543.89</td>\n",
       "      <td>105372.62</td>\n",
       "      <td>110302.12</td>\n",
       "      <td>17851.91</td>\n",
       "      <td>1.927021e+09</td>\n",
       "    </tr>\n",
       "    <tr>\n",
       "      <th>3998</th>\n",
       "      <td>2025-06-10</td>\n",
       "      <td>110302.12</td>\n",
       "      <td>110403.60</td>\n",
       "      <td>108373.44</td>\n",
       "      <td>110296.20</td>\n",
       "      <td>15646.83</td>\n",
       "      <td>1.712252e+09</td>\n",
       "    </tr>\n",
       "    <tr>\n",
       "      <th>3999</th>\n",
       "      <td>2025-06-11</td>\n",
       "      <td>110296.20</td>\n",
       "      <td>110425.64</td>\n",
       "      <td>108096.82</td>\n",
       "      <td>108676.78</td>\n",
       "      <td>14497.20</td>\n",
       "      <td>1.585493e+09</td>\n",
       "    </tr>\n",
       "    <tr>\n",
       "      <th>4000</th>\n",
       "      <td>2025-06-12</td>\n",
       "      <td>108676.78</td>\n",
       "      <td>108843.81</td>\n",
       "      <td>105721.73</td>\n",
       "      <td>105726.04</td>\n",
       "      <td>18051.35</td>\n",
       "      <td>1.937274e+09</td>\n",
       "    </tr>\n",
       "    <tr>\n",
       "      <th>4001</th>\n",
       "      <td>2025-06-13</td>\n",
       "      <td>105726.04</td>\n",
       "      <td>105740.35</td>\n",
       "      <td>102773.14</td>\n",
       "      <td>105085.88</td>\n",
       "      <td>16485.68</td>\n",
       "      <td>1.718550e+09</td>\n",
       "    </tr>\n",
       "  </tbody>\n",
       "</table>\n",
       "</div>"
      ],
      "text/plain": [
       "            time       open       high        low      close  volumefrom  \\\n",
       "3997  2025-06-09  105779.28  110543.89  105372.62  110302.12    17851.91   \n",
       "3998  2025-06-10  110302.12  110403.60  108373.44  110296.20    15646.83   \n",
       "3999  2025-06-11  110296.20  110425.64  108096.82  108676.78    14497.20   \n",
       "4000  2025-06-12  108676.78  108843.81  105721.73  105726.04    18051.35   \n",
       "4001  2025-06-13  105726.04  105740.35  102773.14  105085.88    16485.68   \n",
       "\n",
       "          volumeto  \n",
       "3997  1.927021e+09  \n",
       "3998  1.712252e+09  \n",
       "3999  1.585493e+09  \n",
       "4000  1.937274e+09  \n",
       "4001  1.718550e+09  "
      ]
     },
     "execution_count": 3,
     "metadata": {},
     "output_type": "execute_result"
    }
   ],
   "source": [
    "df.tail()"
   ]
  },
  {
   "cell_type": "code",
   "execution_count": 4,
   "id": "36e2fb9d-7aea-40d7-80f7-b52f7b3d273d",
   "metadata": {},
   "outputs": [],
   "source": [
    "df.columns = ['Date', \"Open Price\", \"High\", \"Low\", \"Close Price\", \"Volume From\", \"Volume To\"]"
   ]
  },
  {
   "cell_type": "code",
   "execution_count": 5,
   "id": "415da942-fe1a-4517-b4f5-38a7a3569c62",
   "metadata": {},
   "outputs": [
    {
     "data": {
      "text/html": [
       "<div>\n",
       "<style scoped>\n",
       "    .dataframe tbody tr th:only-of-type {\n",
       "        vertical-align: middle;\n",
       "    }\n",
       "\n",
       "    .dataframe tbody tr th {\n",
       "        vertical-align: top;\n",
       "    }\n",
       "\n",
       "    .dataframe thead th {\n",
       "        text-align: right;\n",
       "    }\n",
       "</style>\n",
       "<table border=\"1\" class=\"dataframe\">\n",
       "  <thead>\n",
       "    <tr style=\"text-align: right;\">\n",
       "      <th></th>\n",
       "      <th>Date</th>\n",
       "      <th>Open Price</th>\n",
       "      <th>High</th>\n",
       "      <th>Low</th>\n",
       "      <th>Close Price</th>\n",
       "      <th>Volume From</th>\n",
       "      <th>Volume To</th>\n",
       "    </tr>\n",
       "  </thead>\n",
       "  <tbody>\n",
       "    <tr>\n",
       "      <th>0</th>\n",
       "      <td>2014-07-01</td>\n",
       "      <td>635.14</td>\n",
       "      <td>652.54</td>\n",
       "      <td>634.09</td>\n",
       "      <td>643.19</td>\n",
       "      <td>4106.32</td>\n",
       "      <td>2.675354e+06</td>\n",
       "    </tr>\n",
       "    <tr>\n",
       "      <th>1</th>\n",
       "      <td>2014-07-02</td>\n",
       "      <td>643.19</td>\n",
       "      <td>652.10</td>\n",
       "      <td>604.58</td>\n",
       "      <td>645.72</td>\n",
       "      <td>4784.21</td>\n",
       "      <td>3.099762e+06</td>\n",
       "    </tr>\n",
       "    <tr>\n",
       "      <th>2</th>\n",
       "      <td>2014-07-03</td>\n",
       "      <td>645.72</td>\n",
       "      <td>646.40</td>\n",
       "      <td>633.58</td>\n",
       "      <td>638.03</td>\n",
       "      <td>4010.26</td>\n",
       "      <td>2.580980e+06</td>\n",
       "    </tr>\n",
       "    <tr>\n",
       "      <th>3</th>\n",
       "      <td>2014-07-04</td>\n",
       "      <td>638.03</td>\n",
       "      <td>642.22</td>\n",
       "      <td>623.04</td>\n",
       "      <td>623.96</td>\n",
       "      <td>3601.75</td>\n",
       "      <td>2.291612e+06</td>\n",
       "    </tr>\n",
       "    <tr>\n",
       "      <th>4</th>\n",
       "      <td>2014-07-05</td>\n",
       "      <td>623.96</td>\n",
       "      <td>627.80</td>\n",
       "      <td>619.69</td>\n",
       "      <td>622.96</td>\n",
       "      <td>3247.38</td>\n",
       "      <td>2.034966e+06</td>\n",
       "    </tr>\n",
       "    <tr>\n",
       "      <th>...</th>\n",
       "      <td>...</td>\n",
       "      <td>...</td>\n",
       "      <td>...</td>\n",
       "      <td>...</td>\n",
       "      <td>...</td>\n",
       "      <td>...</td>\n",
       "      <td>...</td>\n",
       "    </tr>\n",
       "    <tr>\n",
       "      <th>3997</th>\n",
       "      <td>2025-06-09</td>\n",
       "      <td>105779.28</td>\n",
       "      <td>110543.89</td>\n",
       "      <td>105372.62</td>\n",
       "      <td>110302.12</td>\n",
       "      <td>17851.91</td>\n",
       "      <td>1.927021e+09</td>\n",
       "    </tr>\n",
       "    <tr>\n",
       "      <th>3998</th>\n",
       "      <td>2025-06-10</td>\n",
       "      <td>110302.12</td>\n",
       "      <td>110403.60</td>\n",
       "      <td>108373.44</td>\n",
       "      <td>110296.20</td>\n",
       "      <td>15646.83</td>\n",
       "      <td>1.712252e+09</td>\n",
       "    </tr>\n",
       "    <tr>\n",
       "      <th>3999</th>\n",
       "      <td>2025-06-11</td>\n",
       "      <td>110296.20</td>\n",
       "      <td>110425.64</td>\n",
       "      <td>108096.82</td>\n",
       "      <td>108676.78</td>\n",
       "      <td>14497.20</td>\n",
       "      <td>1.585493e+09</td>\n",
       "    </tr>\n",
       "    <tr>\n",
       "      <th>4000</th>\n",
       "      <td>2025-06-12</td>\n",
       "      <td>108676.78</td>\n",
       "      <td>108843.81</td>\n",
       "      <td>105721.73</td>\n",
       "      <td>105726.04</td>\n",
       "      <td>18051.35</td>\n",
       "      <td>1.937274e+09</td>\n",
       "    </tr>\n",
       "    <tr>\n",
       "      <th>4001</th>\n",
       "      <td>2025-06-13</td>\n",
       "      <td>105726.04</td>\n",
       "      <td>105740.35</td>\n",
       "      <td>102773.14</td>\n",
       "      <td>105085.88</td>\n",
       "      <td>16485.68</td>\n",
       "      <td>1.718550e+09</td>\n",
       "    </tr>\n",
       "  </tbody>\n",
       "</table>\n",
       "<p>4002 rows × 7 columns</p>\n",
       "</div>"
      ],
      "text/plain": [
       "            Date  Open Price       High        Low  Close Price  Volume From  \\\n",
       "0     2014-07-01      635.14     652.54     634.09       643.19      4106.32   \n",
       "1     2014-07-02      643.19     652.10     604.58       645.72      4784.21   \n",
       "2     2014-07-03      645.72     646.40     633.58       638.03      4010.26   \n",
       "3     2014-07-04      638.03     642.22     623.04       623.96      3601.75   \n",
       "4     2014-07-05      623.96     627.80     619.69       622.96      3247.38   \n",
       "...          ...         ...        ...        ...          ...          ...   \n",
       "3997  2025-06-09   105779.28  110543.89  105372.62    110302.12     17851.91   \n",
       "3998  2025-06-10   110302.12  110403.60  108373.44    110296.20     15646.83   \n",
       "3999  2025-06-11   110296.20  110425.64  108096.82    108676.78     14497.20   \n",
       "4000  2025-06-12   108676.78  108843.81  105721.73    105726.04     18051.35   \n",
       "4001  2025-06-13   105726.04  105740.35  102773.14    105085.88     16485.68   \n",
       "\n",
       "         Volume To  \n",
       "0     2.675354e+06  \n",
       "1     3.099762e+06  \n",
       "2     2.580980e+06  \n",
       "3     2.291612e+06  \n",
       "4     2.034966e+06  \n",
       "...            ...  \n",
       "3997  1.927021e+09  \n",
       "3998  1.712252e+09  \n",
       "3999  1.585493e+09  \n",
       "4000  1.937274e+09  \n",
       "4001  1.718550e+09  \n",
       "\n",
       "[4002 rows x 7 columns]"
      ]
     },
     "execution_count": 5,
     "metadata": {},
     "output_type": "execute_result"
    }
   ],
   "source": [
    "df"
   ]
  },
  {
   "cell_type": "code",
   "execution_count": 6,
   "id": "314ede9c-b93b-4519-809f-c43271befd37",
   "metadata": {},
   "outputs": [
    {
     "data": {
      "text/plain": [
       "(4002, 7)"
      ]
     },
     "execution_count": 6,
     "metadata": {},
     "output_type": "execute_result"
    }
   ],
   "source": [
    "df.shape"
   ]
  },
  {
   "cell_type": "code",
   "execution_count": 11,
   "id": "2f83ae24-43e3-4e52-b734-2998e09db1aa",
   "metadata": {},
   "outputs": [],
   "source": [
    "df.isnull().sum()\n",
    "df.duplicated().sum()\n",
    "df = df.drop_duplicates()"
   ]
  },
  {
   "cell_type": "code",
   "execution_count": 12,
   "id": "b68c43fe-118c-4a0c-a8b7-7f7016916651",
   "metadata": {},
   "outputs": [
    {
     "data": {
      "text/plain": [
       "0"
      ]
     },
     "execution_count": 12,
     "metadata": {},
     "output_type": "execute_result"
    }
   ],
   "source": [
    "df.duplicated().sum()"
   ]
  },
  {
   "cell_type": "code",
   "execution_count": 23,
   "id": "ce5a322e-e92f-4ba6-a9f4-1efc483ac6e8",
   "metadata": {},
   "outputs": [
    {
     "name": "stdout",
     "output_type": "stream",
     "text": [
      "['Date', 'Open Price', 'High', 'Low', 'Close Price', 'Volume To']\n"
     ]
    },
    {
     "data": {
      "text/html": [
       "<div>\n",
       "<style scoped>\n",
       "    .dataframe tbody tr th:only-of-type {\n",
       "        vertical-align: middle;\n",
       "    }\n",
       "\n",
       "    .dataframe tbody tr th {\n",
       "        vertical-align: top;\n",
       "    }\n",
       "\n",
       "    .dataframe thead th {\n",
       "        text-align: right;\n",
       "    }\n",
       "</style>\n",
       "<table border=\"1\" class=\"dataframe\">\n",
       "  <thead>\n",
       "    <tr style=\"text-align: right;\">\n",
       "      <th></th>\n",
       "      <th>Date</th>\n",
       "      <th>Open Price</th>\n",
       "      <th>High</th>\n",
       "      <th>Low</th>\n",
       "      <th>Close Price</th>\n",
       "    </tr>\n",
       "  </thead>\n",
       "  <tbody>\n",
       "    <tr>\n",
       "      <th>0</th>\n",
       "      <td>2014-07-01</td>\n",
       "      <td>635.14</td>\n",
       "      <td>652.54</td>\n",
       "      <td>634.09</td>\n",
       "      <td>643.19</td>\n",
       "    </tr>\n",
       "    <tr>\n",
       "      <th>1</th>\n",
       "      <td>2014-07-02</td>\n",
       "      <td>643.19</td>\n",
       "      <td>652.10</td>\n",
       "      <td>604.58</td>\n",
       "      <td>645.72</td>\n",
       "    </tr>\n",
       "    <tr>\n",
       "      <th>2</th>\n",
       "      <td>2014-07-03</td>\n",
       "      <td>645.72</td>\n",
       "      <td>646.40</td>\n",
       "      <td>633.58</td>\n",
       "      <td>638.03</td>\n",
       "    </tr>\n",
       "    <tr>\n",
       "      <th>3</th>\n",
       "      <td>2014-07-04</td>\n",
       "      <td>638.03</td>\n",
       "      <td>642.22</td>\n",
       "      <td>623.04</td>\n",
       "      <td>623.96</td>\n",
       "    </tr>\n",
       "    <tr>\n",
       "      <th>4</th>\n",
       "      <td>2014-07-05</td>\n",
       "      <td>623.96</td>\n",
       "      <td>627.80</td>\n",
       "      <td>619.69</td>\n",
       "      <td>622.96</td>\n",
       "    </tr>\n",
       "    <tr>\n",
       "      <th>...</th>\n",
       "      <td>...</td>\n",
       "      <td>...</td>\n",
       "      <td>...</td>\n",
       "      <td>...</td>\n",
       "      <td>...</td>\n",
       "    </tr>\n",
       "    <tr>\n",
       "      <th>3997</th>\n",
       "      <td>2025-06-09</td>\n",
       "      <td>105779.28</td>\n",
       "      <td>110543.89</td>\n",
       "      <td>105372.62</td>\n",
       "      <td>110302.12</td>\n",
       "    </tr>\n",
       "    <tr>\n",
       "      <th>3998</th>\n",
       "      <td>2025-06-10</td>\n",
       "      <td>110302.12</td>\n",
       "      <td>110403.60</td>\n",
       "      <td>108373.44</td>\n",
       "      <td>110296.20</td>\n",
       "    </tr>\n",
       "    <tr>\n",
       "      <th>3999</th>\n",
       "      <td>2025-06-11</td>\n",
       "      <td>110296.20</td>\n",
       "      <td>110425.64</td>\n",
       "      <td>108096.82</td>\n",
       "      <td>108676.78</td>\n",
       "    </tr>\n",
       "    <tr>\n",
       "      <th>4000</th>\n",
       "      <td>2025-06-12</td>\n",
       "      <td>108676.78</td>\n",
       "      <td>108843.81</td>\n",
       "      <td>105721.73</td>\n",
       "      <td>105726.04</td>\n",
       "    </tr>\n",
       "    <tr>\n",
       "      <th>4001</th>\n",
       "      <td>2025-06-13</td>\n",
       "      <td>105726.04</td>\n",
       "      <td>105740.35</td>\n",
       "      <td>102773.14</td>\n",
       "      <td>105085.88</td>\n",
       "    </tr>\n",
       "  </tbody>\n",
       "</table>\n",
       "<p>4001 rows × 5 columns</p>\n",
       "</div>"
      ],
      "text/plain": [
       "            Date  Open Price       High        Low  Close Price\n",
       "0     2014-07-01      635.14     652.54     634.09       643.19\n",
       "1     2014-07-02      643.19     652.10     604.58       645.72\n",
       "2     2014-07-03      645.72     646.40     633.58       638.03\n",
       "3     2014-07-04      638.03     642.22     623.04       623.96\n",
       "4     2014-07-05      623.96     627.80     619.69       622.96\n",
       "...          ...         ...        ...        ...          ...\n",
       "3997  2025-06-09   105779.28  110543.89  105372.62    110302.12\n",
       "3998  2025-06-10   110302.12  110403.60  108373.44    110296.20\n",
       "3999  2025-06-11   110296.20  110425.64  108096.82    108676.78\n",
       "4000  2025-06-12   108676.78  108843.81  105721.73    105726.04\n",
       "4001  2025-06-13   105726.04  105740.35  102773.14    105085.88\n",
       "\n",
       "[4001 rows x 5 columns]"
      ]
     },
     "execution_count": 23,
     "metadata": {},
     "output_type": "execute_result"
    }
   ],
   "source": [
    "print(df.columns.tolist())\n",
    "df.drop(\"Volume To\", axis=1)"
   ]
  },
  {
   "cell_type": "code",
   "execution_count": 24,
   "id": "1d24240d-cf43-4151-b96b-1ca4005a65a3",
   "metadata": {},
   "outputs": [],
   "source": [
    "df = df[['Date', 'Open Price', 'Close Price', 'High', 'Low']]\n"
   ]
  },
  {
   "cell_type": "code",
   "execution_count": 26,
   "id": "7847ab52-5180-4f26-ad57-1c5e4e3c435d",
   "metadata": {},
   "outputs": [
    {
     "name": "stdout",
     "output_type": "stream",
     "text": [
      "['Date', 'Open Price', 'Close Price', 'High', 'Low']\n"
     ]
    }
   ],
   "source": [
    "print(df.columns.tolist())"
   ]
  },
  {
   "cell_type": "code",
   "execution_count": 27,
   "id": "684472d3-69d2-4864-aa03-70338bb3735f",
   "metadata": {},
   "outputs": [
    {
     "name": "stdout",
     "output_type": "stream",
     "text": [
      "<class 'pandas.core.frame.DataFrame'>\n",
      "Index: 4001 entries, 0 to 4001\n",
      "Data columns (total 5 columns):\n",
      " #   Column       Non-Null Count  Dtype  \n",
      "---  ------       --------------  -----  \n",
      " 0   Date         4001 non-null   object \n",
      " 1   Open Price   4001 non-null   float64\n",
      " 2   Close Price  4001 non-null   float64\n",
      " 3   High         4001 non-null   float64\n",
      " 4   Low          4001 non-null   float64\n",
      "dtypes: float64(4), object(1)\n",
      "memory usage: 316.6+ KB\n"
     ]
    }
   ],
   "source": [
    "df.info()"
   ]
  },
  {
   "cell_type": "code",
   "execution_count": 28,
   "id": "39edf454-7bbc-4b44-ae7e-f650cbe2486a",
   "metadata": {},
   "outputs": [
    {
     "data": {
      "text/plain": [
       "Date           0\n",
       "Open Price     0\n",
       "Close Price    0\n",
       "High           0\n",
       "Low            0\n",
       "dtype: int64"
      ]
     },
     "execution_count": 28,
     "metadata": {},
     "output_type": "execute_result"
    }
   ],
   "source": [
    "df.isnull().sum()"
   ]
  },
  {
   "cell_type": "code",
   "execution_count": 29,
   "id": "776c6757-2144-4841-a5f9-14f09f5bb312",
   "metadata": {},
   "outputs": [
    {
     "data": {
      "text/plain": [
       "0"
      ]
     },
     "execution_count": 29,
     "metadata": {},
     "output_type": "execute_result"
    }
   ],
   "source": [
    "df.duplicated().sum()"
   ]
  },
  {
   "cell_type": "code",
   "execution_count": 30,
   "id": "de0cc58f-60cf-4ded-a537-f3f83946106c",
   "metadata": {},
   "outputs": [
    {
     "data": {
      "text/plain": [
       "Date            object\n",
       "Open Price     float64\n",
       "Close Price    float64\n",
       "High           float64\n",
       "Low            float64\n",
       "dtype: object"
      ]
     },
     "execution_count": 30,
     "metadata": {},
     "output_type": "execute_result"
    }
   ],
   "source": [
    "df.dtypes"
   ]
  },
  {
   "cell_type": "code",
   "execution_count": 33,
   "id": "4e09ee1b-227d-4cb9-abcf-f8ce6b4c6e44",
   "metadata": {},
   "outputs": [
    {
     "data": {
      "text/html": [
       "<div>\n",
       "<style scoped>\n",
       "    .dataframe tbody tr th:only-of-type {\n",
       "        vertical-align: middle;\n",
       "    }\n",
       "\n",
       "    .dataframe tbody tr th {\n",
       "        vertical-align: top;\n",
       "    }\n",
       "\n",
       "    .dataframe thead th {\n",
       "        text-align: right;\n",
       "    }\n",
       "</style>\n",
       "<table border=\"1\" class=\"dataframe\">\n",
       "  <thead>\n",
       "    <tr style=\"text-align: right;\">\n",
       "      <th></th>\n",
       "      <th>Date</th>\n",
       "      <th>Open Price</th>\n",
       "      <th>Close Price</th>\n",
       "      <th>High</th>\n",
       "      <th>Low</th>\n",
       "    </tr>\n",
       "  </thead>\n",
       "  <tbody>\n",
       "    <tr>\n",
       "      <th>count</th>\n",
       "      <td>4001</td>\n",
       "      <td>4001.000000</td>\n",
       "      <td>4001.000000</td>\n",
       "      <td>4001.00000</td>\n",
       "      <td>4001.000000</td>\n",
       "    </tr>\n",
       "    <tr>\n",
       "      <th>mean</th>\n",
       "      <td>2019-12-22 00:00:00.000000256</td>\n",
       "      <td>22275.601685</td>\n",
       "      <td>22301.702959</td>\n",
       "      <td>22784.72905</td>\n",
       "      <td>21736.906368</td>\n",
       "    </tr>\n",
       "    <tr>\n",
       "      <th>min</th>\n",
       "      <td>2014-07-01 00:00:00</td>\n",
       "      <td>164.920000</td>\n",
       "      <td>164.920000</td>\n",
       "      <td>212.59000</td>\n",
       "      <td>157.290000</td>\n",
       "    </tr>\n",
       "    <tr>\n",
       "      <th>25%</th>\n",
       "      <td>2017-03-27 00:00:00</td>\n",
       "      <td>1179.220000</td>\n",
       "      <td>1180.780000</td>\n",
       "      <td>1206.97000</td>\n",
       "      <td>1150.290000</td>\n",
       "    </tr>\n",
       "    <tr>\n",
       "      <th>50%</th>\n",
       "      <td>2019-12-22 00:00:00</td>\n",
       "      <td>9610.110000</td>\n",
       "      <td>9611.420000</td>\n",
       "      <td>9805.42000</td>\n",
       "      <td>9340.450000</td>\n",
       "    </tr>\n",
       "    <tr>\n",
       "      <th>75%</th>\n",
       "      <td>2022-09-17 00:00:00</td>\n",
       "      <td>35932.790000</td>\n",
       "      <td>36009.890000</td>\n",
       "      <td>37429.24000</td>\n",
       "      <td>34733.760000</td>\n",
       "    </tr>\n",
       "    <tr>\n",
       "      <th>max</th>\n",
       "      <td>2025-06-13 00:00:00</td>\n",
       "      <td>111722.110000</td>\n",
       "      <td>111722.110000</td>\n",
       "      <td>111998.96000</td>\n",
       "      <td>109250.400000</td>\n",
       "    </tr>\n",
       "    <tr>\n",
       "      <th>std</th>\n",
       "      <td>NaN</td>\n",
       "      <td>26362.798174</td>\n",
       "      <td>26393.066227</td>\n",
       "      <td>26901.75670</td>\n",
       "      <td>25797.139868</td>\n",
       "    </tr>\n",
       "  </tbody>\n",
       "</table>\n",
       "</div>"
      ],
      "text/plain": [
       "                                Date     Open Price    Close Price  \\\n",
       "count                           4001    4001.000000    4001.000000   \n",
       "mean   2019-12-22 00:00:00.000000256   22275.601685   22301.702959   \n",
       "min              2014-07-01 00:00:00     164.920000     164.920000   \n",
       "25%              2017-03-27 00:00:00    1179.220000    1180.780000   \n",
       "50%              2019-12-22 00:00:00    9610.110000    9611.420000   \n",
       "75%              2022-09-17 00:00:00   35932.790000   36009.890000   \n",
       "max              2025-06-13 00:00:00  111722.110000  111722.110000   \n",
       "std                              NaN   26362.798174   26393.066227   \n",
       "\n",
       "               High            Low  \n",
       "count    4001.00000    4001.000000  \n",
       "mean    22784.72905   21736.906368  \n",
       "min       212.59000     157.290000  \n",
       "25%      1206.97000    1150.290000  \n",
       "50%      9805.42000    9340.450000  \n",
       "75%     37429.24000   34733.760000  \n",
       "max    111998.96000  109250.400000  \n",
       "std     26901.75670   25797.139868  "
      ]
     },
     "execution_count": 33,
     "metadata": {},
     "output_type": "execute_result"
    }
   ],
   "source": [
    "df.describe()"
   ]
  },
  {
   "cell_type": "code",
   "execution_count": 35,
   "id": "22fe6633-0a0d-43b8-82df-beaa7fd561a9",
   "metadata": {},
   "outputs": [
    {
     "data": {
      "text/plain": [
       "0"
      ]
     },
     "execution_count": 35,
     "metadata": {},
     "output_type": "execute_result"
    }
   ],
   "source": [
    "(df['Low'] > df['High']).sum()"
   ]
  },
  {
   "cell_type": "code",
   "execution_count": 38,
   "id": "83f02b22-f4b7-4594-93b2-62deb723d5e5",
   "metadata": {},
   "outputs": [],
   "source": [
    "df.loc[:, 'Date'] = pd.to_datetime(df['Date'])"
   ]
  },
  {
   "cell_type": "markdown",
   "id": "80f6a618",
   "metadata": {},
   "source": []
  },
  {
   "cell_type": "code",
   "execution_count": 40,
   "id": "021d5c1c-d03e-4bdc-809a-708c80910965",
   "metadata": {},
   "outputs": [
    {
     "data": {
      "text/plain": [
       "Date           datetime64[ns]\n",
       "Open Price            float64\n",
       "Close Price           float64\n",
       "High                  float64\n",
       "Low                   float64\n",
       "dtype: object"
      ]
     },
     "execution_count": 40,
     "metadata": {},
     "output_type": "execute_result"
    }
   ],
   "source": [
    "df.dtypes\n"
   ]
  },
  {
   "cell_type": "code",
   "execution_count": 43,
   "id": "e02d25e8-7063-49c5-a39e-b1a3ca01b9dc",
   "metadata": {},
   "outputs": [],
   "source": [
    "df.to_csv(\"btc_oyv.csv\", index=False)"
   ]
  },
  {
   "cell_type": "code",
   "execution_count": 44,
   "id": "ea4b148e-e3d6-4fc9-bf53-3eee03463082",
   "metadata": {},
   "outputs": [
    {
     "data": {
      "text/plain": [
       "0"
      ]
     },
     "execution_count": 44,
     "metadata": {},
     "output_type": "execute_result"
    }
   ],
   "source": [
    "df.duplicated().sum()"
   ]
  },
  {
   "cell_type": "code",
   "execution_count": null,
   "id": "07e67f92-2b4e-4357-baaf-7338a4ef31ff",
   "metadata": {},
   "outputs": [],
   "source": []
  }
 ],
 "metadata": {
  "kernelspec": {
   "display_name": "Python 3 (ipykernel)",
   "language": "python",
   "name": "python3"
  },
  "language_info": {
   "codemirror_mode": {
    "name": "ipython",
    "version": 3
   },
   "file_extension": ".py",
   "mimetype": "text/x-python",
   "name": "python",
   "nbconvert_exporter": "python",
   "pygments_lexer": "ipython3",
   "version": "3.12.7"
  }
 },
 "nbformat": 4,
 "nbformat_minor": 5
}
